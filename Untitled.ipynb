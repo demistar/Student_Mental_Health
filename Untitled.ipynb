{
 "cells": [
  {
   "cell_type": "code",
   "execution_count": null,
   "id": "12a2c0c0",
   "metadata": {},
   "outputs": [],
   "source": [
    "!streamlit run app.py"
   ]
  },
  {
   "cell_type": "code",
   "execution_count": 4,
   "id": "81b4dfcb",
   "metadata": {
    "collapsed": true
   },
   "outputs": [
    {
     "name": "stdout",
     "output_type": "stream",
     "text": [
      "Collecting pandas-profiling==3.1.0\n",
      "  Downloading pandas_profiling-3.1.0-py2.py3-none-any.whl.metadata (23 kB)\n",
      "Collecting joblib~=1.0.1 (from pandas-profiling==3.1.0)\n",
      "  Downloading joblib-1.0.1-py3-none-any.whl.metadata (6.8 kB)\n",
      "Requirement already satisfied: scipy>=1.4.1 in c:\\users\\homepc\\anaconda3\\lib\\site-packages (from pandas-profiling==3.1.0) (1.11.1)\n",
      "Requirement already satisfied: pandas!=1.0.0,!=1.0.1,!=1.0.2,!=1.1.0,>=0.25.3 in c:\\users\\homepc\\anaconda3\\lib\\site-packages (from pandas-profiling==3.1.0) (2.2.2)\n",
      "Requirement already satisfied: matplotlib>=3.2.0 in c:\\users\\homepc\\anaconda3\\lib\\site-packages (from pandas-profiling==3.1.0) (3.7.2)\n",
      "Requirement already satisfied: pydantic>=1.8.1 in c:\\users\\homepc\\anaconda3\\lib\\site-packages (from pandas-profiling==3.1.0) (1.10.8)\n",
      "Requirement already satisfied: PyYAML>=5.0.0 in c:\\users\\homepc\\anaconda3\\lib\\site-packages (from pandas-profiling==3.1.0) (6.0)\n",
      "Requirement already satisfied: jinja2>=2.11.1 in c:\\users\\homepc\\anaconda3\\lib\\site-packages (from pandas-profiling==3.1.0) (3.1.2)\n",
      "Collecting markupsafe~=2.0.1 (from pandas-profiling==3.1.0)\n",
      "  Downloading MarkupSafe-2.0.1.tar.gz (18 kB)\n",
      "  Preparing metadata (setup.py): started\n",
      "  Preparing metadata (setup.py): finished with status 'done'\n",
      "Requirement already satisfied: visions==0.7.4 in c:\\users\\homepc\\anaconda3\\lib\\site-packages (from visions[type_image_path]==0.7.4->pandas-profiling==3.1.0) (0.7.4)\n",
      "Requirement already satisfied: numpy>=1.16.0 in c:\\users\\homepc\\anaconda3\\lib\\site-packages (from pandas-profiling==3.1.0) (1.24.3)\n",
      "Requirement already satisfied: htmlmin>=0.1.12 in c:\\users\\homepc\\anaconda3\\lib\\site-packages (from pandas-profiling==3.1.0) (0.1.12)\n",
      "Requirement already satisfied: missingno>=0.4.2 in c:\\users\\homepc\\anaconda3\\lib\\site-packages (from pandas-profiling==3.1.0) (0.5.2)\n",
      "Requirement already satisfied: phik>=0.11.1 in c:\\users\\homepc\\anaconda3\\lib\\site-packages (from pandas-profiling==3.1.0) (0.12.4)\n",
      "Collecting tangled-up-in-unicode==0.1.0 (from pandas-profiling==3.1.0)\n",
      "  Downloading tangled_up_in_unicode-0.1.0-py3-none-any.whl.metadata (4.7 kB)\n",
      "Requirement already satisfied: requests>=2.24.0 in c:\\users\\homepc\\anaconda3\\lib\\site-packages (from pandas-profiling==3.1.0) (2.31.0)\n",
      "Requirement already satisfied: tqdm>=4.48.2 in c:\\users\\homepc\\anaconda3\\lib\\site-packages (from pandas-profiling==3.1.0) (4.65.0)\n",
      "Requirement already satisfied: seaborn>=0.10.1 in c:\\users\\homepc\\anaconda3\\lib\\site-packages (from pandas-profiling==3.1.0) (0.12.2)\n",
      "Requirement already satisfied: multimethod>=1.4 in c:\\users\\homepc\\anaconda3\\lib\\site-packages (from pandas-profiling==3.1.0) (1.11.2)\n",
      "Requirement already satisfied: attrs>=19.3.0 in c:\\users\\homepc\\anaconda3\\lib\\site-packages (from visions==0.7.4->visions[type_image_path]==0.7.4->pandas-profiling==3.1.0) (22.1.0)\n",
      "Requirement already satisfied: networkx>=2.4 in c:\\users\\homepc\\anaconda3\\lib\\site-packages (from visions==0.7.4->visions[type_image_path]==0.7.4->pandas-profiling==3.1.0) (3.1)\n",
      "Requirement already satisfied: imagehash in c:\\users\\homepc\\anaconda3\\lib\\site-packages (from visions[type_image_path]==0.7.4->pandas-profiling==3.1.0) (4.3.1)\n",
      "Requirement already satisfied: Pillow in c:\\users\\homepc\\anaconda3\\lib\\site-packages (from visions[type_image_path]==0.7.4->pandas-profiling==3.1.0) (9.4.0)\n",
      "Requirement already satisfied: contourpy>=1.0.1 in c:\\users\\homepc\\anaconda3\\lib\\site-packages (from matplotlib>=3.2.0->pandas-profiling==3.1.0) (1.0.5)\n",
      "Requirement already satisfied: cycler>=0.10 in c:\\users\\homepc\\anaconda3\\lib\\site-packages (from matplotlib>=3.2.0->pandas-profiling==3.1.0) (0.11.0)\n",
      "Requirement already satisfied: fonttools>=4.22.0 in c:\\users\\homepc\\anaconda3\\lib\\site-packages (from matplotlib>=3.2.0->pandas-profiling==3.1.0) (4.25.0)\n",
      "Requirement already satisfied: kiwisolver>=1.0.1 in c:\\users\\homepc\\anaconda3\\lib\\site-packages (from matplotlib>=3.2.0->pandas-profiling==3.1.0) (1.4.4)\n",
      "Requirement already satisfied: packaging>=20.0 in c:\\users\\homepc\\anaconda3\\lib\\site-packages (from matplotlib>=3.2.0->pandas-profiling==3.1.0) (23.1)\n",
      "Requirement already satisfied: pyparsing<3.1,>=2.3.1 in c:\\users\\homepc\\anaconda3\\lib\\site-packages (from matplotlib>=3.2.0->pandas-profiling==3.1.0) (3.0.9)\n",
      "Requirement already satisfied: python-dateutil>=2.7 in c:\\users\\homepc\\anaconda3\\lib\\site-packages (from matplotlib>=3.2.0->pandas-profiling==3.1.0) (2.8.2)\n",
      "Requirement already satisfied: pytz>=2020.1 in c:\\users\\homepc\\anaconda3\\lib\\site-packages (from pandas!=1.0.0,!=1.0.1,!=1.0.2,!=1.1.0,>=0.25.3->pandas-profiling==3.1.0) (2023.3.post1)\n",
      "Requirement already satisfied: tzdata>=2022.7 in c:\\users\\homepc\\anaconda3\\lib\\site-packages (from pandas!=1.0.0,!=1.0.1,!=1.0.2,!=1.1.0,>=0.25.3->pandas-profiling==3.1.0) (2023.3)\n",
      "Requirement already satisfied: typing-extensions>=4.2.0 in c:\\users\\homepc\\anaconda3\\lib\\site-packages (from pydantic>=1.8.1->pandas-profiling==3.1.0) (4.7.1)\n",
      "Requirement already satisfied: charset-normalizer<4,>=2 in c:\\users\\homepc\\anaconda3\\lib\\site-packages (from requests>=2.24.0->pandas-profiling==3.1.0) (2.0.4)\n",
      "Requirement already satisfied: idna<4,>=2.5 in c:\\users\\homepc\\anaconda3\\lib\\site-packages (from requests>=2.24.0->pandas-profiling==3.1.0) (3.4)\n",
      "Requirement already satisfied: urllib3<3,>=1.21.1 in c:\\users\\homepc\\anaconda3\\lib\\site-packages (from requests>=2.24.0->pandas-profiling==3.1.0) (1.26.16)\n",
      "Requirement already satisfied: certifi>=2017.4.17 in c:\\users\\homepc\\anaconda3\\lib\\site-packages (from requests>=2.24.0->pandas-profiling==3.1.0) (2024.2.2)\n",
      "Requirement already satisfied: colorama in c:\\users\\homepc\\anaconda3\\lib\\site-packages (from tqdm>=4.48.2->pandas-profiling==3.1.0) (0.4.6)\n",
      "Requirement already satisfied: six>=1.5 in c:\\users\\homepc\\anaconda3\\lib\\site-packages (from python-dateutil>=2.7->matplotlib>=3.2.0->pandas-profiling==3.1.0) (1.16.0)\n",
      "Requirement already satisfied: PyWavelets in c:\\users\\homepc\\anaconda3\\lib\\site-packages (from imagehash->visions[type_image_path]==0.7.4->pandas-profiling==3.1.0) (1.4.1)\n",
      "Downloading pandas_profiling-3.1.0-py2.py3-none-any.whl (261 kB)\n",
      "   ---------------------------------------- 0.0/261.2 kB ? eta -:--:--\n",
      "   ---- ---------------------------------- 30.7/261.2 kB 660.6 kB/s eta 0:00:01\n",
      "   ------ -------------------------------- 41.0/261.2 kB 245.8 kB/s eta 0:00:01\n",
      "   --------- ----------------------------- 61.4/261.2 kB 173.0 kB/s eta 0:00:02\n",
      "   ---------------- --------------------- 112.6/261.2 kB 262.6 kB/s eta 0:00:01\n",
      "   -------------------- ----------------- 143.4/261.2 kB 304.6 kB/s eta 0:00:01\n",
      "   ------------------------- ------------ 174.1/261.2 kB 276.3 kB/s eta 0:00:01\n",
      "   -------------------------------- ----- 225.3/261.2 kB 313.0 kB/s eta 0:00:01\n",
      "   -------------------------------------- 261.2/261.2 kB 334.6 kB/s eta 0:00:00\n",
      "Downloading tangled_up_in_unicode-0.1.0-py3-none-any.whl (3.1 MB)\n",
      "   ---------------------------------------- 0.0/3.1 MB ? eta -:--:--\n",
      "   - -------------------------------------- 0.2/3.1 MB 3.1 MB/s eta 0:00:01\n",
      "   --- ------------------------------------ 0.2/3.1 MB 2.4 MB/s eta 0:00:02\n",
      "   --- ------------------------------------ 0.2/3.1 MB 2.4 MB/s eta 0:00:02\n",
      "   --- ------------------------------------ 0.2/3.1 MB 2.4 MB/s eta 0:00:02\n",
      "   --- ------------------------------------ 0.3/3.1 MB 965.4 kB/s eta 0:00:03\n",
      "   ------ --------------------------------- 0.5/3.1 MB 1.2 MB/s eta 0:00:03\n",
      "   -------- ------------------------------- 0.7/3.1 MB 1.5 MB/s eta 0:00:02\n",
      "   --------- ------------------------------ 0.8/3.1 MB 1.6 MB/s eta 0:00:02\n",
      "   --------- ------------------------------ 0.8/3.1 MB 1.6 MB/s eta 0:00:02\n",
      "   ---------- ----------------------------- 0.8/3.1 MB 1.3 MB/s eta 0:00:02\n",
      "   ------------ --------------------------- 0.9/3.1 MB 1.3 MB/s eta 0:00:02\n",
      "   ------------- -------------------------- 1.1/3.1 MB 1.4 MB/s eta 0:00:02\n",
      "   ---------------- ----------------------- 1.3/3.1 MB 1.6 MB/s eta 0:00:02\n",
      "   --------------------- ------------------ 1.7/3.1 MB 2.0 MB/s eta 0:00:01\n",
      "   ----------------------- ---------------- 1.8/3.1 MB 2.0 MB/s eta 0:00:01\n",
      "   ------------------------ --------------- 1.9/3.1 MB 2.0 MB/s eta 0:00:01\n",
      "   ------------------------- -------------- 2.0/3.1 MB 1.9 MB/s eta 0:00:01\n",
      "   -------------------------- ------------- 2.1/3.1 MB 2.0 MB/s eta 0:00:01\n",
      "   -------------------------- ------------- 2.1/3.1 MB 2.0 MB/s eta 0:00:01\n",
      "   -------------------------- ------------- 2.1/3.1 MB 2.0 MB/s eta 0:00:01\n",
      "   -------------------------- ------------- 2.1/3.1 MB 2.0 MB/s eta 0:00:01\n",
      "   -------------------------- ------------- 2.1/3.1 MB 2.0 MB/s eta 0:00:01\n",
      "   -------------------------- ------------- 2.1/3.1 MB 2.0 MB/s eta 0:00:01\n",
      "   -------------------------- ------------- 2.1/3.1 MB 2.0 MB/s eta 0:00:01\n",
      "   -------------------------- ------------- 2.1/3.1 MB 2.0 MB/s eta 0:00:01\n",
      "   -------------------------- ------------- 2.1/3.1 MB 2.0 MB/s eta 0:00:01\n",
      "   -------------------------- ------------- 2.1/3.1 MB 2.0 MB/s eta 0:00:01\n",
      "   -------------------------------- ------- 2.6/3.1 MB 1.5 MB/s eta 0:00:01\n",
      "   ---------------------------------------  3.1/3.1 MB 1.8 MB/s eta 0:00:01\n",
      "   ---------------------------------------- 3.1/3.1 MB 1.7 MB/s eta 0:00:00\n",
      "Downloading joblib-1.0.1-py3-none-any.whl (303 kB)\n",
      "   ---------------------------------------- 0.0/303.1 kB ? eta -:--:--\n",
      "   ---------------------------------------- 303.1/303.1 kB 9.4 MB/s eta 0:00:00\n",
      "Building wheels for collected packages: markupsafe\n",
      "  Building wheel for markupsafe (setup.py): started\n",
      "  Building wheel for markupsafe (setup.py): finished with status 'done'\n",
      "  Created wheel for markupsafe: filename=MarkupSafe-2.0.1-py3-none-any.whl size=9767 sha256=e69edcf5cb470ad249281c3250efd4153a01c0bf571168b8960a34f263c8e4ef\n",
      "  Stored in directory: c:\\users\\homepc\\appdata\\local\\pip\\cache\\wheels\\ea\\18\\79\\6266ea508b8164a77b95aa19534c77eb805f2878612c37efca\n",
      "Successfully built markupsafe\n",
      "Installing collected packages: tangled-up-in-unicode, markupsafe, joblib, pandas-profiling\n",
      "  Attempting uninstall: tangled-up-in-unicode\n",
      "    Found existing installation: tangled-up-in-unicode 0.2.0\n",
      "    Uninstalling tangled-up-in-unicode-0.2.0:\n",
      "      Successfully uninstalled tangled-up-in-unicode-0.2.0\n",
      "  Attempting uninstall: markupsafe\n",
      "    Found existing installation: MarkupSafe 2.1.1\n",
      "    Uninstalling MarkupSafe-2.1.1:\n",
      "      Successfully uninstalled MarkupSafe-2.1.1\n",
      "  Attempting uninstall: joblib\n",
      "    Found existing installation: joblib 1.1.1\n",
      "    Uninstalling joblib-1.1.1:\n",
      "      Successfully uninstalled joblib-1.1.1\n",
      "  Attempting uninstall: pandas-profiling\n",
      "    Found existing installation: pandas-profiling 3.2.0\n",
      "    Uninstalling pandas-profiling-3.2.0:\n",
      "      Successfully uninstalled pandas-profiling-3.2.0\n",
      "Successfully installed joblib-1.0.1 markupsafe-2.0.1 pandas-profiling-3.1.0 tangled-up-in-unicode-0.1.0\n",
      "Note: you may need to restart the kernel to use updated packages.\n"
     ]
    },
    {
     "name": "stderr",
     "output_type": "stream",
     "text": [
      "ERROR: pip's dependency resolver does not currently take into account all the packages that are installed. This behaviour is the source of the following dependency conflicts.\n",
      "imbalanced-learn 0.10.1 requires joblib>=1.1.1, but you have joblib 1.0.1 which is incompatible.\n",
      "scikit-learn 1.3.0 requires joblib>=1.1.1, but you have joblib 1.0.1 which is incompatible.\n",
      "werkzeug 2.2.3 requires MarkupSafe>=2.1.1, but you have markupsafe 2.0.1 which is incompatible.\n"
     ]
    }
   ],
   "source": [
    "pip install pandas-profiling==3.1.0"
   ]
  },
  {
   "cell_type": "code",
   "execution_count": 6,
   "id": "46c4e4d8",
   "metadata": {
    "collapsed": true
   },
   "outputs": [
    {
     "name": "stdout",
     "output_type": "stream",
     "text": [
      "Collecting ydata-profiling\n",
      "  Downloading ydata_profiling-4.8.3-py2.py3-none-any.whl.metadata (20 kB)\n",
      "Requirement already satisfied: scipy<1.14,>=1.4.1 in c:\\users\\homepc\\anaconda3\\lib\\site-packages (from ydata-profiling) (1.11.1)\n",
      "Requirement already satisfied: pandas!=1.4.0,<3,>1.1 in c:\\users\\homepc\\anaconda3\\lib\\site-packages (from ydata-profiling) (2.2.2)\n",
      "Requirement already satisfied: matplotlib<3.9,>=3.2 in c:\\users\\homepc\\anaconda3\\lib\\site-packages (from ydata-profiling) (3.7.2)\n",
      "Collecting pydantic>=2 (from ydata-profiling)\n",
      "  Downloading pydantic-2.7.4-py3-none-any.whl.metadata (109 kB)\n",
      "     ---------------------------------------- 0.0/109.4 kB ? eta -:--:--\n",
      "     --- ------------------------------------ 10.2/109.4 kB ? eta -:--:--\n",
      "     ---------- -------------------------- 30.7/109.4 kB 435.7 kB/s eta 0:00:01\n",
      "     ------------- ----------------------- 41.0/109.4 kB 330.3 kB/s eta 0:00:01\n",
      "     -------------------- ---------------- 61.4/109.4 kB 365.7 kB/s eta 0:00:01\n",
      "     ------------------------------- ----- 92.2/109.4 kB 438.1 kB/s eta 0:00:01\n",
      "     ------------------------------------ 109.4/109.4 kB 455.0 kB/s eta 0:00:00\n",
      "Requirement already satisfied: PyYAML<6.1,>=5.0.0 in c:\\users\\homepc\\anaconda3\\lib\\site-packages (from ydata-profiling) (6.0)\n",
      "Requirement already satisfied: jinja2<3.2,>=2.11.1 in c:\\users\\homepc\\anaconda3\\lib\\site-packages (from ydata-profiling) (3.1.2)\n",
      "Collecting visions<0.7.7,>=0.7.5 (from visions[type_image_path]<0.7.7,>=0.7.5->ydata-profiling)\n",
      "  Downloading visions-0.7.6-py3-none-any.whl.metadata (11 kB)\n",
      "Requirement already satisfied: numpy<2,>=1.16.0 in c:\\users\\homepc\\anaconda3\\lib\\site-packages (from ydata-profiling) (1.24.3)\n",
      "Requirement already satisfied: htmlmin==0.1.12 in c:\\users\\homepc\\anaconda3\\lib\\site-packages (from ydata-profiling) (0.1.12)\n",
      "Requirement already satisfied: phik<0.13,>=0.11.1 in c:\\users\\homepc\\anaconda3\\lib\\site-packages (from ydata-profiling) (0.12.4)\n",
      "Requirement already satisfied: requests<3,>=2.24.0 in c:\\users\\homepc\\anaconda3\\lib\\site-packages (from ydata-profiling) (2.31.0)\n",
      "Requirement already satisfied: tqdm<5,>=4.48.2 in c:\\users\\homepc\\anaconda3\\lib\\site-packages (from ydata-profiling) (4.65.0)\n",
      "Requirement already satisfied: seaborn<0.14,>=0.10.1 in c:\\users\\homepc\\anaconda3\\lib\\site-packages (from ydata-profiling) (0.12.2)\n",
      "Requirement already satisfied: multimethod<2,>=1.4 in c:\\users\\homepc\\anaconda3\\lib\\site-packages (from ydata-profiling) (1.11.2)\n",
      "Requirement already satisfied: statsmodels<1,>=0.13.2 in c:\\users\\homepc\\anaconda3\\lib\\site-packages (from ydata-profiling) (0.14.0)\n",
      "Collecting typeguard<5,>=3 (from ydata-profiling)\n",
      "  Downloading typeguard-4.3.0-py3-none-any.whl.metadata (3.7 kB)\n",
      "Requirement already satisfied: imagehash==4.3.1 in c:\\users\\homepc\\anaconda3\\lib\\site-packages (from ydata-profiling) (4.3.1)\n",
      "Collecting wordcloud>=1.9.1 (from ydata-profiling)\n",
      "  Downloading wordcloud-1.9.3-cp311-cp311-win_amd64.whl.metadata (3.5 kB)\n",
      "Collecting dacite>=1.8 (from ydata-profiling)\n",
      "  Downloading dacite-1.8.1-py3-none-any.whl.metadata (15 kB)\n",
      "Requirement already satisfied: numba<1,>=0.56.0 in c:\\users\\homepc\\anaconda3\\lib\\site-packages (from ydata-profiling) (0.57.1)\n",
      "Requirement already satisfied: PyWavelets in c:\\users\\homepc\\anaconda3\\lib\\site-packages (from imagehash==4.3.1->ydata-profiling) (1.4.1)\n",
      "Requirement already satisfied: pillow in c:\\users\\homepc\\anaconda3\\lib\\site-packages (from imagehash==4.3.1->ydata-profiling) (9.4.0)\n",
      "Requirement already satisfied: MarkupSafe>=2.0 in c:\\users\\homepc\\anaconda3\\lib\\site-packages (from jinja2<3.2,>=2.11.1->ydata-profiling) (2.0.1)\n",
      "Requirement already satisfied: contourpy>=1.0.1 in c:\\users\\homepc\\anaconda3\\lib\\site-packages (from matplotlib<3.9,>=3.2->ydata-profiling) (1.0.5)\n",
      "Requirement already satisfied: cycler>=0.10 in c:\\users\\homepc\\anaconda3\\lib\\site-packages (from matplotlib<3.9,>=3.2->ydata-profiling) (0.11.0)\n",
      "Requirement already satisfied: fonttools>=4.22.0 in c:\\users\\homepc\\anaconda3\\lib\\site-packages (from matplotlib<3.9,>=3.2->ydata-profiling) (4.25.0)\n",
      "Requirement already satisfied: kiwisolver>=1.0.1 in c:\\users\\homepc\\anaconda3\\lib\\site-packages (from matplotlib<3.9,>=3.2->ydata-profiling) (1.4.4)\n",
      "Requirement already satisfied: packaging>=20.0 in c:\\users\\homepc\\anaconda3\\lib\\site-packages (from matplotlib<3.9,>=3.2->ydata-profiling) (23.1)\n",
      "Requirement already satisfied: pyparsing<3.1,>=2.3.1 in c:\\users\\homepc\\anaconda3\\lib\\site-packages (from matplotlib<3.9,>=3.2->ydata-profiling) (3.0.9)\n",
      "Requirement already satisfied: python-dateutil>=2.7 in c:\\users\\homepc\\anaconda3\\lib\\site-packages (from matplotlib<3.9,>=3.2->ydata-profiling) (2.8.2)\n",
      "Requirement already satisfied: llvmlite<0.41,>=0.40.0dev0 in c:\\users\\homepc\\anaconda3\\lib\\site-packages (from numba<1,>=0.56.0->ydata-profiling) (0.40.0)\n",
      "Requirement already satisfied: pytz>=2020.1 in c:\\users\\homepc\\anaconda3\\lib\\site-packages (from pandas!=1.4.0,<3,>1.1->ydata-profiling) (2023.3.post1)\n",
      "Requirement already satisfied: tzdata>=2022.7 in c:\\users\\homepc\\anaconda3\\lib\\site-packages (from pandas!=1.4.0,<3,>1.1->ydata-profiling) (2023.3)\n",
      "Requirement already satisfied: joblib>=0.14.1 in c:\\users\\homepc\\anaconda3\\lib\\site-packages (from phik<0.13,>=0.11.1->ydata-profiling) (1.0.1)\n",
      "Collecting annotated-types>=0.4.0 (from pydantic>=2->ydata-profiling)\n",
      "  Downloading annotated_types-0.7.0-py3-none-any.whl.metadata (15 kB)\n",
      "Collecting pydantic-core==2.18.4 (from pydantic>=2->ydata-profiling)\n",
      "  Downloading pydantic_core-2.18.4-cp311-none-win_amd64.whl.metadata (6.7 kB)\n",
      "Requirement already satisfied: typing-extensions>=4.6.1 in c:\\users\\homepc\\anaconda3\\lib\\site-packages (from pydantic>=2->ydata-profiling) (4.7.1)\n",
      "Requirement already satisfied: charset-normalizer<4,>=2 in c:\\users\\homepc\\anaconda3\\lib\\site-packages (from requests<3,>=2.24.0->ydata-profiling) (2.0.4)\n",
      "Requirement already satisfied: idna<4,>=2.5 in c:\\users\\homepc\\anaconda3\\lib\\site-packages (from requests<3,>=2.24.0->ydata-profiling) (3.4)\n",
      "Requirement already satisfied: urllib3<3,>=1.21.1 in c:\\users\\homepc\\anaconda3\\lib\\site-packages (from requests<3,>=2.24.0->ydata-profiling) (1.26.16)\n",
      "Requirement already satisfied: certifi>=2017.4.17 in c:\\users\\homepc\\anaconda3\\lib\\site-packages (from requests<3,>=2.24.0->ydata-profiling) (2024.2.2)\n",
      "Requirement already satisfied: patsy>=0.5.2 in c:\\users\\homepc\\anaconda3\\lib\\site-packages (from statsmodels<1,>=0.13.2->ydata-profiling) (0.5.3)\n",
      "Requirement already satisfied: colorama in c:\\users\\homepc\\anaconda3\\lib\\site-packages (from tqdm<5,>=4.48.2->ydata-profiling) (0.4.6)\n",
      "Collecting typing-extensions>=4.6.1 (from pydantic>=2->ydata-profiling)\n",
      "  Downloading typing_extensions-4.12.2-py3-none-any.whl.metadata (3.0 kB)\n",
      "Requirement already satisfied: attrs>=19.3.0 in c:\\users\\homepc\\anaconda3\\lib\\site-packages (from visions<0.7.7,>=0.7.5->visions[type_image_path]<0.7.7,>=0.7.5->ydata-profiling) (22.1.0)\n",
      "Requirement already satisfied: networkx>=2.4 in c:\\users\\homepc\\anaconda3\\lib\\site-packages (from visions<0.7.7,>=0.7.5->visions[type_image_path]<0.7.7,>=0.7.5->ydata-profiling) (3.1)\n",
      "Requirement already satisfied: six in c:\\users\\homepc\\anaconda3\\lib\\site-packages (from patsy>=0.5.2->statsmodels<1,>=0.13.2->ydata-profiling) (1.16.0)\n",
      "Downloading ydata_profiling-4.8.3-py2.py3-none-any.whl (359 kB)\n",
      "   ---------------------------------------- 0.0/359.5 kB ? eta -:--:--\n",
      "   ------------ --------------------------- 112.6/359.5 kB 2.2 MB/s eta 0:00:01\n",
      "   --------------- ------------------------ 143.4/359.5 kB 2.1 MB/s eta 0:00:01\n",
      "   ------------------- -------------------- 174.1/359.5 kB 1.2 MB/s eta 0:00:01\n",
      "   ------------------------------------ --- 327.7/359.5 kB 1.6 MB/s eta 0:00:01\n",
      "   ---------------------------------------- 359.5/359.5 kB 1.6 MB/s eta 0:00:00\n",
      "Downloading dacite-1.8.1-py3-none-any.whl (14 kB)\n",
      "Downloading pydantic-2.7.4-py3-none-any.whl (409 kB)\n",
      "   ---------------------------------------- 0.0/409.0 kB ? eta -:--:--\n",
      "   --------------------------------------  399.4/409.0 kB 12.6 MB/s eta 0:00:01\n",
      "   ---------------------------------------- 409.0/409.0 kB 8.5 MB/s eta 0:00:00\n",
      "Downloading pydantic_core-2.18.4-cp311-none-win_amd64.whl (1.9 MB)\n",
      "   ---------------------------------------- 0.0/1.9 MB ? eta -:--:--\n",
      "   --------- ------------------------------ 0.4/1.9 MB 13.5 MB/s eta 0:00:01\n",
      "   ---------------- ----------------------- 0.8/1.9 MB 10.2 MB/s eta 0:00:01\n",
      "   ------------------ --------------------- 0.9/1.9 MB 7.1 MB/s eta 0:00:01\n",
      "   --------------------------------- ------ 1.6/1.9 MB 7.9 MB/s eta 0:00:01\n",
      "   ---------------------------------------  1.9/1.9 MB 8.5 MB/s eta 0:00:01\n",
      "   ---------------------------------------- 1.9/1.9 MB 6.8 MB/s eta 0:00:00\n",
      "Downloading typeguard-4.3.0-py3-none-any.whl (35 kB)\n",
      "Downloading visions-0.7.6-py3-none-any.whl (104 kB)\n",
      "   ---------------------------------------- 0.0/104.8 kB ? eta -:--:--\n",
      "   ---------------------------------------- 104.8/104.8 kB 3.1 MB/s eta 0:00:00\n",
      "Downloading wordcloud-1.9.3-cp311-cp311-win_amd64.whl (300 kB)\n",
      "   ---------------------------------------- 0.0/300.2 kB ? eta -:--:--\n",
      "   ---------------------------------------  297.0/300.2 kB 9.0 MB/s eta 0:00:01\n",
      "   ---------------------------------------- 300.2/300.2 kB 4.6 MB/s eta 0:00:00\n",
      "Downloading annotated_types-0.7.0-py3-none-any.whl (13 kB)\n",
      "Downloading typing_extensions-4.12.2-py3-none-any.whl (37 kB)\n",
      "Installing collected packages: typing-extensions, dacite, annotated-types, typeguard, pydantic-core, wordcloud, visions, pydantic, ydata-profiling\n",
      "  Attempting uninstall: typing-extensions\n",
      "    Found existing installation: typing_extensions 4.7.1\n",
      "    Uninstalling typing_extensions-4.7.1:\n",
      "      Successfully uninstalled typing_extensions-4.7.1\n",
      "  Attempting uninstall: visions\n",
      "    Found existing installation: visions 0.7.4\n",
      "    Uninstalling visions-0.7.4:\n",
      "      Successfully uninstalled visions-0.7.4\n",
      "  Attempting uninstall: pydantic\n",
      "    Found existing installation: pydantic 1.10.8\n",
      "    Uninstalling pydantic-1.10.8:\n",
      "      Successfully uninstalled pydantic-1.10.8\n",
      "Successfully installed annotated-types-0.7.0 dacite-1.8.1 pydantic-2.7.4 pydantic-core-2.18.4 typeguard-4.3.0 typing-extensions-4.12.2 visions-0.7.6 wordcloud-1.9.3 ydata-profiling-4.8.3\n",
      "Note: you may need to restart the kernel to use updated packages.\n"
     ]
    },
    {
     "name": "stderr",
     "output_type": "stream",
     "text": [
      "ERROR: pip's dependency resolver does not currently take into account all the packages that are installed. This behaviour is the source of the following dependency conflicts.\n",
      "anaconda-cloud-auth 0.1.3 requires pydantic<2.0, but you have pydantic 2.7.4 which is incompatible.\n",
      "pandas-profiling 3.1.0 requires visions[type_image_path]==0.7.4, but you have visions 0.7.6 which is incompatible.\n"
     ]
    }
   ],
   "source": [
    "pip install ydata-profiling"
   ]
  },
  {
   "cell_type": "code",
   "execution_count": 7,
   "id": "9c6b9184",
   "metadata": {},
   "outputs": [],
   "source": [
    "import pandas\n",
    "from ydata_profiling import ProfileReport"
   ]
  },
  {
   "cell_type": "code",
   "execution_count": 9,
   "id": "91c3f364",
   "metadata": {},
   "outputs": [
    {
     "data": {
      "text/plain": [
       "'C:\\\\Users\\\\HomePC\\\\Desktop\\\\demmy\\\\Student_Mental_Health'"
      ]
     },
     "execution_count": 9,
     "metadata": {},
     "output_type": "execute_result"
    }
   ],
   "source": [
    "pwd"
   ]
  },
  {
   "cell_type": "code",
   "execution_count": 23,
   "id": "65c9c863",
   "metadata": {},
   "outputs": [],
   "source": [
    "file = \"students_mental_health_dataset.csv\"\n",
    "\n",
    "import matplotlib\n",
    "from matplotlib import pyplot as plt\n",
    "import pandas as pd\n",
    "from ydata_profiling import ProfileReport\n",
    "\n",
    "%matplotlib inline"
   ]
  },
  {
   "cell_type": "code",
   "execution_count": 19,
   "id": "296794de",
   "metadata": {},
   "outputs": [
    {
     "name": "stdout",
     "output_type": "stream",
     "text": [
      "<class 'pandas.core.frame.DataFrame'>\n",
      "RangeIndex: 7022 entries, 0 to 7021\n",
      "Data columns (total 12 columns):\n",
      " #   Column               Non-Null Count  Dtype  \n",
      "---  ------               --------------  -----  \n",
      " 0   Age                  7022 non-null   int64  \n",
      " 1   Course               7022 non-null   object \n",
      " 2   Gender               7022 non-null   object \n",
      " 3   CGPA                 7010 non-null   float64\n",
      " 4   Stress_Level         7022 non-null   int64  \n",
      " 5   Depression_Score     7022 non-null   int64  \n",
      " 6   Anxiety_Score        7022 non-null   int64  \n",
      " 7   Sleep_Quality        7022 non-null   object \n",
      " 8   Physical_Activity    7022 non-null   object \n",
      " 9   Diet_Quality         7022 non-null   object \n",
      " 10  Relationship_Status  7022 non-null   object \n",
      " 11  Financial_Stress     7022 non-null   int64  \n",
      "dtypes: float64(1), int64(5), object(6)\n",
      "memory usage: 658.4+ KB\n"
     ]
    }
   ],
   "source": [
    "df = pd.read_csv(file)\n",
    "df.info()"
   ]
  },
  {
   "cell_type": "code",
   "execution_count": 24,
   "id": "951cadb4",
   "metadata": {},
   "outputs": [
    {
     "data": {
      "application/vnd.jupyter.widget-view+json": {
       "model_id": "411a27e1306841e4b084c26254863c88",
       "version_major": 2,
       "version_minor": 0
      },
      "text/plain": [
       "Summarize dataset:   0%|          | 0/5 [00:00<?, ?it/s]"
      ]
     },
     "metadata": {},
     "output_type": "display_data"
    },
    {
     "ename": "ImportError",
     "evalue": "matplotlib is required for plotting when the default backend \"matplotlib\" is selected.",
     "output_type": "error",
     "traceback": [
      "\u001b[1;31m---------------------------------------------------------------------------\u001b[0m",
      "\u001b[1;31mImportError\u001b[0m                               Traceback (most recent call last)",
      "File \u001b[1;32m~\\anaconda3\\Lib\\site-packages\\IPython\\core\\formatters.py:344\u001b[0m, in \u001b[0;36mBaseFormatter.__call__\u001b[1;34m(self, obj)\u001b[0m\n\u001b[0;32m    342\u001b[0m     method \u001b[38;5;241m=\u001b[39m get_real_method(obj, \u001b[38;5;28mself\u001b[39m\u001b[38;5;241m.\u001b[39mprint_method)\n\u001b[0;32m    343\u001b[0m     \u001b[38;5;28;01mif\u001b[39;00m method \u001b[38;5;129;01mis\u001b[39;00m \u001b[38;5;129;01mnot\u001b[39;00m \u001b[38;5;28;01mNone\u001b[39;00m:\n\u001b[1;32m--> 344\u001b[0m         \u001b[38;5;28;01mreturn\u001b[39;00m method()\n\u001b[0;32m    345\u001b[0m     \u001b[38;5;28;01mreturn\u001b[39;00m \u001b[38;5;28;01mNone\u001b[39;00m\n\u001b[0;32m    346\u001b[0m \u001b[38;5;28;01melse\u001b[39;00m:\n",
      "File \u001b[1;32m~\\anaconda3\\Lib\\site-packages\\ydata_profiling\\profile_report.py:546\u001b[0m, in \u001b[0;36mProfileReport._repr_html_\u001b[1;34m(self)\u001b[0m\n\u001b[0;32m    544\u001b[0m \u001b[38;5;28;01mdef\u001b[39;00m \u001b[38;5;21m_repr_html_\u001b[39m(\u001b[38;5;28mself\u001b[39m) \u001b[38;5;241m-\u001b[39m\u001b[38;5;241m>\u001b[39m \u001b[38;5;28;01mNone\u001b[39;00m:\n\u001b[0;32m    545\u001b[0m \u001b[38;5;250m    \u001b[39m\u001b[38;5;124;03m\"\"\"The ipython notebook widgets user interface gets called by the jupyter notebook.\"\"\"\u001b[39;00m\n\u001b[1;32m--> 546\u001b[0m     \u001b[38;5;28mself\u001b[39m\u001b[38;5;241m.\u001b[39mto_notebook_iframe()\n",
      "File \u001b[1;32m~\\anaconda3\\Lib\\site-packages\\ydata_profiling\\profile_report.py:526\u001b[0m, in \u001b[0;36mProfileReport.to_notebook_iframe\u001b[1;34m(self)\u001b[0m\n\u001b[0;32m    524\u001b[0m \u001b[38;5;28;01mwith\u001b[39;00m warnings\u001b[38;5;241m.\u001b[39mcatch_warnings():\n\u001b[0;32m    525\u001b[0m     warnings\u001b[38;5;241m.\u001b[39msimplefilter(\u001b[38;5;124m\"\u001b[39m\u001b[38;5;124mignore\u001b[39m\u001b[38;5;124m\"\u001b[39m)\n\u001b[1;32m--> 526\u001b[0m     display(get_notebook_iframe(\u001b[38;5;28mself\u001b[39m\u001b[38;5;241m.\u001b[39mconfig, \u001b[38;5;28mself\u001b[39m))\n",
      "File \u001b[1;32m~\\anaconda3\\Lib\\site-packages\\ydata_profiling\\report\\presentation\\flavours\\widget\\notebook.py:75\u001b[0m, in \u001b[0;36mget_notebook_iframe\u001b[1;34m(config, profile)\u001b[0m\n\u001b[0;32m     73\u001b[0m     output \u001b[38;5;241m=\u001b[39m get_notebook_iframe_src(config, profile)\n\u001b[0;32m     74\u001b[0m \u001b[38;5;28;01melif\u001b[39;00m attribute \u001b[38;5;241m==\u001b[39m IframeAttribute\u001b[38;5;241m.\u001b[39msrcdoc:\n\u001b[1;32m---> 75\u001b[0m     output \u001b[38;5;241m=\u001b[39m get_notebook_iframe_srcdoc(config, profile)\n\u001b[0;32m     76\u001b[0m \u001b[38;5;28;01melse\u001b[39;00m:\n\u001b[0;32m     77\u001b[0m     \u001b[38;5;28;01mraise\u001b[39;00m \u001b[38;5;167;01mValueError\u001b[39;00m(\n\u001b[0;32m     78\u001b[0m         \u001b[38;5;124mf\u001b[39m\u001b[38;5;124m'\u001b[39m\u001b[38;5;124mIframe Attribute can be \u001b[39m\u001b[38;5;124m\"\u001b[39m\u001b[38;5;124msrc\u001b[39m\u001b[38;5;124m\"\u001b[39m\u001b[38;5;124m or \u001b[39m\u001b[38;5;124m\"\u001b[39m\u001b[38;5;124msrcdoc\u001b[39m\u001b[38;5;124m\"\u001b[39m\u001b[38;5;124m (current: \u001b[39m\u001b[38;5;132;01m{\u001b[39;00mattribute\u001b[38;5;132;01m}\u001b[39;00m\u001b[38;5;124m).\u001b[39m\u001b[38;5;124m'\u001b[39m\n\u001b[0;32m     79\u001b[0m     )\n",
      "File \u001b[1;32m~\\anaconda3\\Lib\\site-packages\\ydata_profiling\\report\\presentation\\flavours\\widget\\notebook.py:29\u001b[0m, in \u001b[0;36mget_notebook_iframe_srcdoc\u001b[1;34m(config, profile)\u001b[0m\n\u001b[0;32m     27\u001b[0m width \u001b[38;5;241m=\u001b[39m config\u001b[38;5;241m.\u001b[39mnotebook\u001b[38;5;241m.\u001b[39miframe\u001b[38;5;241m.\u001b[39mwidth\n\u001b[0;32m     28\u001b[0m height \u001b[38;5;241m=\u001b[39m config\u001b[38;5;241m.\u001b[39mnotebook\u001b[38;5;241m.\u001b[39miframe\u001b[38;5;241m.\u001b[39mheight\n\u001b[1;32m---> 29\u001b[0m src \u001b[38;5;241m=\u001b[39m html\u001b[38;5;241m.\u001b[39mescape(profile\u001b[38;5;241m.\u001b[39mto_html())\n\u001b[0;32m     31\u001b[0m iframe \u001b[38;5;241m=\u001b[39m \u001b[38;5;124mf\u001b[39m\u001b[38;5;124m'\u001b[39m\u001b[38;5;124m<iframe width=\u001b[39m\u001b[38;5;124m\"\u001b[39m\u001b[38;5;132;01m{\u001b[39;00mwidth\u001b[38;5;132;01m}\u001b[39;00m\u001b[38;5;124m\"\u001b[39m\u001b[38;5;124m height=\u001b[39m\u001b[38;5;124m\"\u001b[39m\u001b[38;5;132;01m{\u001b[39;00mheight\u001b[38;5;132;01m}\u001b[39;00m\u001b[38;5;124m\"\u001b[39m\u001b[38;5;124m srcdoc=\u001b[39m\u001b[38;5;124m\"\u001b[39m\u001b[38;5;132;01m{\u001b[39;00msrc\u001b[38;5;132;01m}\u001b[39;00m\u001b[38;5;124m\"\u001b[39m\u001b[38;5;124m frameborder=\u001b[39m\u001b[38;5;124m\"\u001b[39m\u001b[38;5;124m0\u001b[39m\u001b[38;5;124m\"\u001b[39m\u001b[38;5;124m allowfullscreen></iframe>\u001b[39m\u001b[38;5;124m'\u001b[39m\n\u001b[0;32m     33\u001b[0m \u001b[38;5;28;01mreturn\u001b[39;00m HTML(iframe)\n",
      "File \u001b[1;32m~\\anaconda3\\Lib\\site-packages\\ydata_profiling\\profile_report.py:496\u001b[0m, in \u001b[0;36mProfileReport.to_html\u001b[1;34m(self)\u001b[0m\n\u001b[0;32m    488\u001b[0m \u001b[38;5;28;01mdef\u001b[39;00m \u001b[38;5;21mto_html\u001b[39m(\u001b[38;5;28mself\u001b[39m) \u001b[38;5;241m-\u001b[39m\u001b[38;5;241m>\u001b[39m \u001b[38;5;28mstr\u001b[39m:\n\u001b[0;32m    489\u001b[0m \u001b[38;5;250m    \u001b[39m\u001b[38;5;124;03m\"\"\"Generate and return complete template as lengthy string\u001b[39;00m\n\u001b[0;32m    490\u001b[0m \u001b[38;5;124;03m        for using with frameworks.\u001b[39;00m\n\u001b[0;32m    491\u001b[0m \n\u001b[1;32m   (...)\u001b[0m\n\u001b[0;32m    494\u001b[0m \n\u001b[0;32m    495\u001b[0m \u001b[38;5;124;03m    \"\"\"\u001b[39;00m\n\u001b[1;32m--> 496\u001b[0m     \u001b[38;5;28;01mreturn\u001b[39;00m \u001b[38;5;28mself\u001b[39m\u001b[38;5;241m.\u001b[39mhtml\n",
      "File \u001b[1;32m~\\anaconda3\\Lib\\site-packages\\ydata_profiling\\profile_report.py:292\u001b[0m, in \u001b[0;36mProfileReport.html\u001b[1;34m(self)\u001b[0m\n\u001b[0;32m    289\u001b[0m \u001b[38;5;129m@property\u001b[39m\n\u001b[0;32m    290\u001b[0m \u001b[38;5;28;01mdef\u001b[39;00m \u001b[38;5;21mhtml\u001b[39m(\u001b[38;5;28mself\u001b[39m) \u001b[38;5;241m-\u001b[39m\u001b[38;5;241m>\u001b[39m \u001b[38;5;28mstr\u001b[39m:\n\u001b[0;32m    291\u001b[0m     \u001b[38;5;28;01mif\u001b[39;00m \u001b[38;5;28mself\u001b[39m\u001b[38;5;241m.\u001b[39m_html \u001b[38;5;129;01mis\u001b[39;00m \u001b[38;5;28;01mNone\u001b[39;00m:\n\u001b[1;32m--> 292\u001b[0m         \u001b[38;5;28mself\u001b[39m\u001b[38;5;241m.\u001b[39m_html \u001b[38;5;241m=\u001b[39m \u001b[38;5;28mself\u001b[39m\u001b[38;5;241m.\u001b[39m_render_html()\n\u001b[0;32m    293\u001b[0m     \u001b[38;5;28;01mreturn\u001b[39;00m \u001b[38;5;28mself\u001b[39m\u001b[38;5;241m.\u001b[39m_html\n",
      "File \u001b[1;32m~\\anaconda3\\Lib\\site-packages\\ydata_profiling\\profile_report.py:409\u001b[0m, in \u001b[0;36mProfileReport._render_html\u001b[1;34m(self)\u001b[0m\n\u001b[0;32m    406\u001b[0m \u001b[38;5;28;01mdef\u001b[39;00m \u001b[38;5;21m_render_html\u001b[39m(\u001b[38;5;28mself\u001b[39m) \u001b[38;5;241m-\u001b[39m\u001b[38;5;241m>\u001b[39m \u001b[38;5;28mstr\u001b[39m:\n\u001b[0;32m    407\u001b[0m     \u001b[38;5;28;01mfrom\u001b[39;00m \u001b[38;5;21;01mydata_profiling\u001b[39;00m\u001b[38;5;21;01m.\u001b[39;00m\u001b[38;5;21;01mreport\u001b[39;00m\u001b[38;5;21;01m.\u001b[39;00m\u001b[38;5;21;01mpresentation\u001b[39;00m\u001b[38;5;21;01m.\u001b[39;00m\u001b[38;5;21;01mflavours\u001b[39;00m \u001b[38;5;28;01mimport\u001b[39;00m HTMLReport\n\u001b[1;32m--> 409\u001b[0m     report \u001b[38;5;241m=\u001b[39m \u001b[38;5;28mself\u001b[39m\u001b[38;5;241m.\u001b[39mreport\n\u001b[0;32m    411\u001b[0m     \u001b[38;5;28;01mwith\u001b[39;00m tqdm(\n\u001b[0;32m    412\u001b[0m         total\u001b[38;5;241m=\u001b[39m\u001b[38;5;241m1\u001b[39m, desc\u001b[38;5;241m=\u001b[39m\u001b[38;5;124m\"\u001b[39m\u001b[38;5;124mRender HTML\u001b[39m\u001b[38;5;124m\"\u001b[39m, disable\u001b[38;5;241m=\u001b[39m\u001b[38;5;129;01mnot\u001b[39;00m \u001b[38;5;28mself\u001b[39m\u001b[38;5;241m.\u001b[39mconfig\u001b[38;5;241m.\u001b[39mprogress_bar\n\u001b[0;32m    413\u001b[0m     ) \u001b[38;5;28;01mas\u001b[39;00m pbar:\n\u001b[0;32m    414\u001b[0m         html \u001b[38;5;241m=\u001b[39m HTMLReport(copy\u001b[38;5;241m.\u001b[39mdeepcopy(report))\u001b[38;5;241m.\u001b[39mrender(\n\u001b[0;32m    415\u001b[0m             nav\u001b[38;5;241m=\u001b[39m\u001b[38;5;28mself\u001b[39m\u001b[38;5;241m.\u001b[39mconfig\u001b[38;5;241m.\u001b[39mhtml\u001b[38;5;241m.\u001b[39mnavbar_show,\n\u001b[0;32m    416\u001b[0m             offline\u001b[38;5;241m=\u001b[39m\u001b[38;5;28mself\u001b[39m\u001b[38;5;241m.\u001b[39mconfig\u001b[38;5;241m.\u001b[39mhtml\u001b[38;5;241m.\u001b[39muse_local_assets,\n\u001b[1;32m   (...)\u001b[0m\n\u001b[0;32m    424\u001b[0m             version\u001b[38;5;241m=\u001b[39m\u001b[38;5;28mself\u001b[39m\u001b[38;5;241m.\u001b[39mdescription_set\u001b[38;5;241m.\u001b[39mpackage[\u001b[38;5;124m\"\u001b[39m\u001b[38;5;124mydata_profiling_version\u001b[39m\u001b[38;5;124m\"\u001b[39m],\n\u001b[0;32m    425\u001b[0m         )\n",
      "File \u001b[1;32m~\\anaconda3\\Lib\\site-packages\\ydata_profiling\\profile_report.py:286\u001b[0m, in \u001b[0;36mProfileReport.report\u001b[1;34m(self)\u001b[0m\n\u001b[0;32m    283\u001b[0m \u001b[38;5;129m@property\u001b[39m\n\u001b[0;32m    284\u001b[0m \u001b[38;5;28;01mdef\u001b[39;00m \u001b[38;5;21mreport\u001b[39m(\u001b[38;5;28mself\u001b[39m) \u001b[38;5;241m-\u001b[39m\u001b[38;5;241m>\u001b[39m Root:\n\u001b[0;32m    285\u001b[0m     \u001b[38;5;28;01mif\u001b[39;00m \u001b[38;5;28mself\u001b[39m\u001b[38;5;241m.\u001b[39m_report \u001b[38;5;129;01mis\u001b[39;00m \u001b[38;5;28;01mNone\u001b[39;00m:\n\u001b[1;32m--> 286\u001b[0m         \u001b[38;5;28mself\u001b[39m\u001b[38;5;241m.\u001b[39m_report \u001b[38;5;241m=\u001b[39m get_report_structure(\u001b[38;5;28mself\u001b[39m\u001b[38;5;241m.\u001b[39mconfig, \u001b[38;5;28mself\u001b[39m\u001b[38;5;241m.\u001b[39mdescription_set)\n\u001b[0;32m    287\u001b[0m     \u001b[38;5;28;01mreturn\u001b[39;00m \u001b[38;5;28mself\u001b[39m\u001b[38;5;241m.\u001b[39m_report\n",
      "File \u001b[1;32m~\\anaconda3\\Lib\\site-packages\\ydata_profiling\\profile_report.py:268\u001b[0m, in \u001b[0;36mProfileReport.description_set\u001b[1;34m(self)\u001b[0m\n\u001b[0;32m    265\u001b[0m \u001b[38;5;129m@property\u001b[39m\n\u001b[0;32m    266\u001b[0m \u001b[38;5;28;01mdef\u001b[39;00m \u001b[38;5;21mdescription_set\u001b[39m(\u001b[38;5;28mself\u001b[39m) \u001b[38;5;241m-\u001b[39m\u001b[38;5;241m>\u001b[39m BaseDescription:\n\u001b[0;32m    267\u001b[0m     \u001b[38;5;28;01mif\u001b[39;00m \u001b[38;5;28mself\u001b[39m\u001b[38;5;241m.\u001b[39m_description_set \u001b[38;5;129;01mis\u001b[39;00m \u001b[38;5;28;01mNone\u001b[39;00m:\n\u001b[1;32m--> 268\u001b[0m         \u001b[38;5;28mself\u001b[39m\u001b[38;5;241m.\u001b[39m_description_set \u001b[38;5;241m=\u001b[39m describe_df(\n\u001b[0;32m    269\u001b[0m             \u001b[38;5;28mself\u001b[39m\u001b[38;5;241m.\u001b[39mconfig,\n\u001b[0;32m    270\u001b[0m             \u001b[38;5;28mself\u001b[39m\u001b[38;5;241m.\u001b[39mdf,\n\u001b[0;32m    271\u001b[0m             \u001b[38;5;28mself\u001b[39m\u001b[38;5;241m.\u001b[39msummarizer,\n\u001b[0;32m    272\u001b[0m             \u001b[38;5;28mself\u001b[39m\u001b[38;5;241m.\u001b[39mtypeset,\n\u001b[0;32m    273\u001b[0m             \u001b[38;5;28mself\u001b[39m\u001b[38;5;241m.\u001b[39m_sample,\n\u001b[0;32m    274\u001b[0m         )\n\u001b[0;32m    275\u001b[0m     \u001b[38;5;28;01mreturn\u001b[39;00m \u001b[38;5;28mself\u001b[39m\u001b[38;5;241m.\u001b[39m_description_set\n",
      "File \u001b[1;32m~\\anaconda3\\Lib\\site-packages\\ydata_profiling\\model\\describe.py:130\u001b[0m, in \u001b[0;36mdescribe\u001b[1;34m(config, df, summarizer, typeset, sample)\u001b[0m\n\u001b[0;32m    126\u001b[0m scatter_matrix: Dict[Any, Dict[Any, Any]] \u001b[38;5;241m=\u001b[39m {\n\u001b[0;32m    127\u001b[0m     x: {y: \u001b[38;5;28;01mNone\u001b[39;00m} \u001b[38;5;28;01mfor\u001b[39;00m x, y \u001b[38;5;129;01min\u001b[39;00m scatter_tasks\n\u001b[0;32m    128\u001b[0m }\n\u001b[0;32m    129\u001b[0m \u001b[38;5;28;01mfor\u001b[39;00m x, y \u001b[38;5;129;01min\u001b[39;00m scatter_tasks:\n\u001b[1;32m--> 130\u001b[0m     scatter_matrix[x][y] \u001b[38;5;241m=\u001b[39m progress(\n\u001b[0;32m    131\u001b[0m         get_scatter_plot, pbar, \u001b[38;5;124mf\u001b[39m\u001b[38;5;124m\"\u001b[39m\u001b[38;5;124mscatter \u001b[39m\u001b[38;5;132;01m{\u001b[39;00mx\u001b[38;5;132;01m}\u001b[39;00m\u001b[38;5;124m, \u001b[39m\u001b[38;5;132;01m{\u001b[39;00my\u001b[38;5;132;01m}\u001b[39;00m\u001b[38;5;124m\"\u001b[39m\n\u001b[0;32m    132\u001b[0m     )(config, df, x, y, interval_columns)\n\u001b[0;32m    134\u001b[0m \u001b[38;5;66;03m# missing diagrams\u001b[39;00m\n\u001b[0;32m    135\u001b[0m missing_map \u001b[38;5;241m=\u001b[39m get_missing_active(config, table_stats)\n",
      "File \u001b[1;32m~\\anaconda3\\Lib\\site-packages\\ydata_profiling\\utils\\progress_bar.py:11\u001b[0m, in \u001b[0;36mprogress.<locals>.inner\u001b[1;34m(*args, **kwargs)\u001b[0m\n\u001b[0;32m      8\u001b[0m \u001b[38;5;129m@wraps\u001b[39m(fn)\n\u001b[0;32m      9\u001b[0m \u001b[38;5;28;01mdef\u001b[39;00m \u001b[38;5;21minner\u001b[39m(\u001b[38;5;241m*\u001b[39margs, \u001b[38;5;241m*\u001b[39m\u001b[38;5;241m*\u001b[39mkwargs) \u001b[38;5;241m-\u001b[39m\u001b[38;5;241m>\u001b[39m Any:\n\u001b[0;32m     10\u001b[0m     bar\u001b[38;5;241m.\u001b[39mset_postfix_str(message)\n\u001b[1;32m---> 11\u001b[0m     ret \u001b[38;5;241m=\u001b[39m fn(\u001b[38;5;241m*\u001b[39margs, \u001b[38;5;241m*\u001b[39m\u001b[38;5;241m*\u001b[39mkwargs)\n\u001b[0;32m     12\u001b[0m     bar\u001b[38;5;241m.\u001b[39mupdate()\n\u001b[0;32m     13\u001b[0m     \u001b[38;5;28;01mreturn\u001b[39;00m ret\n",
      "File \u001b[1;32m~\\anaconda3\\Lib\\site-packages\\ydata_profiling\\model\\pairwise.py:31\u001b[0m, in \u001b[0;36mget_scatter_plot\u001b[1;34m(config, df, x, y, continuous_variables)\u001b[0m\n\u001b[0;32m     29\u001b[0m     \u001b[38;5;28;01melse\u001b[39;00m:\n\u001b[0;32m     30\u001b[0m         df_temp \u001b[38;5;241m=\u001b[39m df[[x, y]]\u001b[38;5;241m.\u001b[39mdropna()\n\u001b[1;32m---> 31\u001b[0m     \u001b[38;5;28;01mreturn\u001b[39;00m scatter_pairwise(config, df_temp[x], df_temp[y], x, y)\n\u001b[0;32m     32\u001b[0m \u001b[38;5;28;01melse\u001b[39;00m:\n\u001b[0;32m     33\u001b[0m     \u001b[38;5;28;01mreturn\u001b[39;00m \u001b[38;5;124m\"\u001b[39m\u001b[38;5;124m\"\u001b[39m\n",
      "File \u001b[1;32m~\\anaconda3\\Lib\\contextlib.py:80\u001b[0m, in \u001b[0;36mContextDecorator.__call__.<locals>.inner\u001b[1;34m(*args, **kwds)\u001b[0m\n\u001b[0;32m     78\u001b[0m \u001b[38;5;129m@wraps\u001b[39m(func)\n\u001b[0;32m     79\u001b[0m \u001b[38;5;28;01mdef\u001b[39;00m \u001b[38;5;21minner\u001b[39m(\u001b[38;5;241m*\u001b[39margs, \u001b[38;5;241m*\u001b[39m\u001b[38;5;241m*\u001b[39mkwds):\n\u001b[1;32m---> 80\u001b[0m     \u001b[38;5;28;01mwith\u001b[39;00m \u001b[38;5;28mself\u001b[39m\u001b[38;5;241m.\u001b[39m_recreate_cm():\n\u001b[0;32m     81\u001b[0m         \u001b[38;5;28;01mreturn\u001b[39;00m func(\u001b[38;5;241m*\u001b[39margs, \u001b[38;5;241m*\u001b[39m\u001b[38;5;241m*\u001b[39mkwds)\n",
      "File \u001b[1;32m~\\anaconda3\\Lib\\contextlib.py:137\u001b[0m, in \u001b[0;36m_GeneratorContextManager.__enter__\u001b[1;34m(self)\u001b[0m\n\u001b[0;32m    135\u001b[0m \u001b[38;5;28;01mdel\u001b[39;00m \u001b[38;5;28mself\u001b[39m\u001b[38;5;241m.\u001b[39margs, \u001b[38;5;28mself\u001b[39m\u001b[38;5;241m.\u001b[39mkwds, \u001b[38;5;28mself\u001b[39m\u001b[38;5;241m.\u001b[39mfunc\n\u001b[0;32m    136\u001b[0m \u001b[38;5;28;01mtry\u001b[39;00m:\n\u001b[1;32m--> 137\u001b[0m     \u001b[38;5;28;01mreturn\u001b[39;00m \u001b[38;5;28mnext\u001b[39m(\u001b[38;5;28mself\u001b[39m\u001b[38;5;241m.\u001b[39mgen)\n\u001b[0;32m    138\u001b[0m \u001b[38;5;28;01mexcept\u001b[39;00m \u001b[38;5;167;01mStopIteration\u001b[39;00m:\n\u001b[0;32m    139\u001b[0m     \u001b[38;5;28;01mraise\u001b[39;00m \u001b[38;5;167;01mRuntimeError\u001b[39;00m(\u001b[38;5;124m\"\u001b[39m\u001b[38;5;124mgenerator didn\u001b[39m\u001b[38;5;124m'\u001b[39m\u001b[38;5;124mt yield\u001b[39m\u001b[38;5;124m\"\u001b[39m) \u001b[38;5;28;01mfrom\u001b[39;00m \u001b[38;5;28;01mNone\u001b[39;00m\n",
      "File \u001b[1;32m~\\anaconda3\\Lib\\site-packages\\ydata_profiling\\visualisation\\context.py:82\u001b[0m, in \u001b[0;36mmanage_matplotlib_context\u001b[1;34m()\u001b[0m\n\u001b[0;32m     80\u001b[0m     \u001b[38;5;28;01myield\u001b[39;00m\n\u001b[0;32m     81\u001b[0m \u001b[38;5;28;01mfinally\u001b[39;00m:\n\u001b[1;32m---> 82\u001b[0m     deregister_matplotlib_converters()  \u001b[38;5;66;03m# revert to original unit registries\u001b[39;00m\n\u001b[0;32m     83\u001b[0m     \u001b[38;5;28;01mwith\u001b[39;00m warnings\u001b[38;5;241m.\u001b[39mcatch_warnings():\n\u001b[0;32m     84\u001b[0m         warnings\u001b[38;5;241m.\u001b[39mfilterwarnings(\n\u001b[0;32m     85\u001b[0m             \u001b[38;5;124m\"\u001b[39m\u001b[38;5;124mignore\u001b[39m\u001b[38;5;124m\"\u001b[39m, category\u001b[38;5;241m=\u001b[39mmatplotlib\u001b[38;5;241m.\u001b[39mMatplotlibDeprecationWarning\n\u001b[0;32m     86\u001b[0m         )\n",
      "File \u001b[1;32m~\\anaconda3\\Lib\\site-packages\\pandas\\plotting\\_misc.py:84\u001b[0m, in \u001b[0;36mderegister\u001b[1;34m()\u001b[0m\n\u001b[0;32m     67\u001b[0m \u001b[38;5;28;01mdef\u001b[39;00m \u001b[38;5;21mregister\u001b[39m() \u001b[38;5;241m-\u001b[39m\u001b[38;5;241m>\u001b[39m \u001b[38;5;28;01mNone\u001b[39;00m:\n\u001b[0;32m     68\u001b[0m \u001b[38;5;250m    \u001b[39m\u001b[38;5;124;03m\"\"\"\u001b[39;00m\n\u001b[0;32m     69\u001b[0m \u001b[38;5;124;03m    Register pandas formatters and converters with matplotlib.\u001b[39;00m\n\u001b[0;32m     70\u001b[0m \n\u001b[0;32m     71\u001b[0m \u001b[38;5;124;03m    This function modifies the global ``matplotlib.units.registry``\u001b[39;00m\n\u001b[0;32m     72\u001b[0m \u001b[38;5;124;03m    dictionary. pandas adds custom converters for\u001b[39;00m\n\u001b[0;32m     73\u001b[0m \n\u001b[0;32m     74\u001b[0m \u001b[38;5;124;03m    * pd.Timestamp\u001b[39;00m\n\u001b[0;32m     75\u001b[0m \u001b[38;5;124;03m    * pd.Period\u001b[39;00m\n\u001b[0;32m     76\u001b[0m \u001b[38;5;124;03m    * np.datetime64\u001b[39;00m\n\u001b[0;32m     77\u001b[0m \u001b[38;5;124;03m    * datetime.datetime\u001b[39;00m\n\u001b[0;32m     78\u001b[0m \u001b[38;5;124;03m    * datetime.date\u001b[39;00m\n\u001b[0;32m     79\u001b[0m \u001b[38;5;124;03m    * datetime.time\u001b[39;00m\n\u001b[0;32m     80\u001b[0m \n\u001b[0;32m     81\u001b[0m \u001b[38;5;124;03m    See Also\u001b[39;00m\n\u001b[0;32m     82\u001b[0m \u001b[38;5;124;03m    --------\u001b[39;00m\n\u001b[0;32m     83\u001b[0m \u001b[38;5;124;03m    deregister_matplotlib_converters : Remove pandas formatters and converters.\u001b[39;00m\n\u001b[1;32m---> 84\u001b[0m \n\u001b[0;32m     85\u001b[0m \u001b[38;5;124;03m    Examples\u001b[39;00m\n\u001b[0;32m     86\u001b[0m \u001b[38;5;124;03m    --------\u001b[39;00m\n\u001b[0;32m     87\u001b[0m \u001b[38;5;124;03m    .. plot::\u001b[39;00m\n\u001b[0;32m     88\u001b[0m \u001b[38;5;124;03m       :context: close-figs\u001b[39;00m\n\u001b[0;32m     89\u001b[0m \n\u001b[0;32m     90\u001b[0m \u001b[38;5;124;03m        The following line is done automatically by pandas so\u001b[39;00m\n\u001b[0;32m     91\u001b[0m \u001b[38;5;124;03m        the plot can be rendered:\u001b[39;00m\n\u001b[0;32m     92\u001b[0m \n\u001b[0;32m     93\u001b[0m \u001b[38;5;124;03m        >>> pd.plotting.register_matplotlib_converters()\u001b[39;00m\n\u001b[0;32m     94\u001b[0m \n\u001b[0;32m     95\u001b[0m \u001b[38;5;124;03m        >>> df = pd.DataFrame({'ts': pd.period_range('2020', periods=2, freq='M'),\u001b[39;00m\n\u001b[0;32m     96\u001b[0m \u001b[38;5;124;03m        ...                    'y': [1, 2]\u001b[39;00m\n\u001b[0;32m     97\u001b[0m \u001b[38;5;124;03m        ...                    })\u001b[39;00m\n\u001b[0;32m     98\u001b[0m \u001b[38;5;124;03m        >>> plot = df.plot.line(x='ts', y='y')\u001b[39;00m\n\u001b[0;32m     99\u001b[0m \n\u001b[0;32m    100\u001b[0m \u001b[38;5;124;03m    Unsetting the register manually an error will be raised:\u001b[39;00m\n\u001b[0;32m    101\u001b[0m \n\u001b[0;32m    102\u001b[0m \u001b[38;5;124;03m    >>> pd.set_option(\"plotting.matplotlib.register_converters\",\u001b[39;00m\n\u001b[0;32m    103\u001b[0m \u001b[38;5;124;03m    ...               False)  # doctest: +SKIP\u001b[39;00m\n\u001b[0;32m    104\u001b[0m \u001b[38;5;124;03m    >>> df.plot.line(x='ts', y='y')  # doctest: +SKIP\u001b[39;00m\n\u001b[0;32m    105\u001b[0m \u001b[38;5;124;03m    Traceback (most recent call last):\u001b[39;00m\n\u001b[0;32m    106\u001b[0m \u001b[38;5;124;03m    TypeError: float() argument must be a string or a real number, not 'Period'\u001b[39;00m\n\u001b[0;32m    107\u001b[0m \u001b[38;5;124;03m    \"\"\"\u001b[39;00m\n\u001b[0;32m    108\u001b[0m     plot_backend \u001b[38;5;241m=\u001b[39m _get_plot_backend(\u001b[38;5;124m\"\u001b[39m\u001b[38;5;124mmatplotlib\u001b[39m\u001b[38;5;124m\"\u001b[39m)\n\u001b[0;32m    109\u001b[0m     plot_backend\u001b[38;5;241m.\u001b[39mregister()\n",
      "File \u001b[1;32m~\\anaconda3\\Lib\\site-packages\\pandas\\plotting\\_core.py:1862\u001b[0m, in \u001b[0;36m_get_plot_backend\u001b[1;34m(backend)\u001b[0m\n\u001b[0;32m   1851\u001b[0m \u001b[38;5;28;01mdef\u001b[39;00m \u001b[38;5;21m_load_backend\u001b[39m(backend: \u001b[38;5;28mstr\u001b[39m) \u001b[38;5;241m-\u001b[39m\u001b[38;5;241m>\u001b[39m types\u001b[38;5;241m.\u001b[39mModuleType:\n\u001b[0;32m   1852\u001b[0m \u001b[38;5;250m    \u001b[39m\u001b[38;5;124;03m\"\"\"\u001b[39;00m\n\u001b[0;32m   1853\u001b[0m \u001b[38;5;124;03m    Load a pandas plotting backend.\u001b[39;00m\n\u001b[0;32m   1854\u001b[0m \n\u001b[0;32m   1855\u001b[0m \u001b[38;5;124;03m    Parameters\u001b[39;00m\n\u001b[0;32m   1856\u001b[0m \u001b[38;5;124;03m    ----------\u001b[39;00m\n\u001b[0;32m   1857\u001b[0m \u001b[38;5;124;03m    backend : str\u001b[39;00m\n\u001b[0;32m   1858\u001b[0m \u001b[38;5;124;03m        The identifier for the backend. Either an entrypoint item registered\u001b[39;00m\n\u001b[0;32m   1859\u001b[0m \u001b[38;5;124;03m        with importlib.metadata, \"matplotlib\", or a module name.\u001b[39;00m\n\u001b[0;32m   1860\u001b[0m \n\u001b[0;32m   1861\u001b[0m \u001b[38;5;124;03m    Returns\u001b[39;00m\n\u001b[1;32m-> 1862\u001b[0m \u001b[38;5;124;03m    -------\u001b[39;00m\n\u001b[0;32m   1863\u001b[0m \u001b[38;5;124;03m    types.ModuleType\u001b[39;00m\n\u001b[0;32m   1864\u001b[0m \u001b[38;5;124;03m        The imported backend.\u001b[39;00m\n\u001b[0;32m   1865\u001b[0m \u001b[38;5;124;03m    \"\"\"\u001b[39;00m\n\u001b[0;32m   1866\u001b[0m     \u001b[38;5;28;01mfrom\u001b[39;00m \u001b[38;5;21;01mimportlib\u001b[39;00m\u001b[38;5;21;01m.\u001b[39;00m\u001b[38;5;21;01mmetadata\u001b[39;00m \u001b[38;5;28;01mimport\u001b[39;00m entry_points\n\u001b[0;32m   1868\u001b[0m     \u001b[38;5;28;01mif\u001b[39;00m backend \u001b[38;5;241m==\u001b[39m \u001b[38;5;124m\"\u001b[39m\u001b[38;5;124mmatplotlib\u001b[39m\u001b[38;5;124m\"\u001b[39m:\n\u001b[0;32m   1869\u001b[0m         \u001b[38;5;66;03m# Because matplotlib is an optional dependency and first-party backend,\u001b[39;00m\n\u001b[0;32m   1870\u001b[0m         \u001b[38;5;66;03m# we need to attempt an import here to raise an ImportError if needed.\u001b[39;00m\n",
      "File \u001b[1;32m~\\anaconda3\\Lib\\site-packages\\pandas\\plotting\\_core.py:1794\u001b[0m, in \u001b[0;36m_load_backend\u001b[1;34m(backend)\u001b[0m\n\u001b[0;32m   1750\u001b[0m \u001b[38;5;28;01mdef\u001b[39;00m \u001b[38;5;21mhexbin\u001b[39m(\n\u001b[0;32m   1751\u001b[0m     \u001b[38;5;28mself\u001b[39m,\n\u001b[0;32m   1752\u001b[0m     x: Hashable,\n\u001b[1;32m   (...)\u001b[0m\n\u001b[0;32m   1757\u001b[0m     \u001b[38;5;241m*\u001b[39m\u001b[38;5;241m*\u001b[39mkwargs,\n\u001b[0;32m   1758\u001b[0m ) \u001b[38;5;241m-\u001b[39m\u001b[38;5;241m>\u001b[39m PlotAccessor:\n\u001b[0;32m   1759\u001b[0m \u001b[38;5;250m    \u001b[39m\u001b[38;5;124;03m\"\"\"\u001b[39;00m\n\u001b[0;32m   1760\u001b[0m \u001b[38;5;124;03m    Generate a hexagonal binning plot.\u001b[39;00m\n\u001b[0;32m   1761\u001b[0m \n\u001b[0;32m   1762\u001b[0m \u001b[38;5;124;03m    Generate a hexagonal binning plot of `x` versus `y`. If `C` is `None`\u001b[39;00m\n\u001b[0;32m   1763\u001b[0m \u001b[38;5;124;03m    (the default), this is a histogram of the number of occurrences\u001b[39;00m\n\u001b[0;32m   1764\u001b[0m \u001b[38;5;124;03m    of the observations at ``(x[i], y[i])``.\u001b[39;00m\n\u001b[0;32m   1765\u001b[0m \n\u001b[0;32m   1766\u001b[0m \u001b[38;5;124;03m    If `C` is specified, specifies values at given coordinates\u001b[39;00m\n\u001b[0;32m   1767\u001b[0m \u001b[38;5;124;03m    ``(x[i], y[i])``. These values are accumulated for each hexagonal\u001b[39;00m\n\u001b[0;32m   1768\u001b[0m \u001b[38;5;124;03m    bin and then reduced according to `reduce_C_function`,\u001b[39;00m\n\u001b[0;32m   1769\u001b[0m \u001b[38;5;124;03m    having as default the NumPy's mean function (:meth:`numpy.mean`).\u001b[39;00m\n\u001b[0;32m   1770\u001b[0m \u001b[38;5;124;03m    (If `C` is specified, it must also be a 1-D sequence\u001b[39;00m\n\u001b[0;32m   1771\u001b[0m \u001b[38;5;124;03m    of the same length as `x` and `y`, or a column label.)\u001b[39;00m\n\u001b[0;32m   1772\u001b[0m \n\u001b[0;32m   1773\u001b[0m \u001b[38;5;124;03m    Parameters\u001b[39;00m\n\u001b[0;32m   1774\u001b[0m \u001b[38;5;124;03m    ----------\u001b[39;00m\n\u001b[0;32m   1775\u001b[0m \u001b[38;5;124;03m    x : int or str\u001b[39;00m\n\u001b[0;32m   1776\u001b[0m \u001b[38;5;124;03m        The column label or position for x points.\u001b[39;00m\n\u001b[0;32m   1777\u001b[0m \u001b[38;5;124;03m    y : int or str\u001b[39;00m\n\u001b[0;32m   1778\u001b[0m \u001b[38;5;124;03m        The column label or position for y points.\u001b[39;00m\n\u001b[0;32m   1779\u001b[0m \u001b[38;5;124;03m    C : int or str, optional\u001b[39;00m\n\u001b[0;32m   1780\u001b[0m \u001b[38;5;124;03m        The column label or position for the value of `(x, y)` point.\u001b[39;00m\n\u001b[0;32m   1781\u001b[0m \u001b[38;5;124;03m    reduce_C_function : callable, default `np.mean`\u001b[39;00m\n\u001b[0;32m   1782\u001b[0m \u001b[38;5;124;03m        Function of one argument that reduces all the values in a bin to\u001b[39;00m\n\u001b[0;32m   1783\u001b[0m \u001b[38;5;124;03m        a single number (e.g. `np.mean`, `np.max`, `np.sum`, `np.std`).\u001b[39;00m\n\u001b[0;32m   1784\u001b[0m \u001b[38;5;124;03m    gridsize : int or tuple of (int, int), default 100\u001b[39;00m\n\u001b[0;32m   1785\u001b[0m \u001b[38;5;124;03m        The number of hexagons in the x-direction.\u001b[39;00m\n\u001b[0;32m   1786\u001b[0m \u001b[38;5;124;03m        The corresponding number of hexagons in the y-direction is\u001b[39;00m\n\u001b[0;32m   1787\u001b[0m \u001b[38;5;124;03m        chosen in a way that the hexagons are approximately regular.\u001b[39;00m\n\u001b[0;32m   1788\u001b[0m \u001b[38;5;124;03m        Alternatively, gridsize can be a tuple with two elements\u001b[39;00m\n\u001b[0;32m   1789\u001b[0m \u001b[38;5;124;03m        specifying the number of hexagons in the x-direction and the\u001b[39;00m\n\u001b[0;32m   1790\u001b[0m \u001b[38;5;124;03m        y-direction.\u001b[39;00m\n\u001b[0;32m   1791\u001b[0m \u001b[38;5;124;03m    **kwargs\u001b[39;00m\n\u001b[0;32m   1792\u001b[0m \u001b[38;5;124;03m        Additional keyword arguments are documented in\u001b[39;00m\n\u001b[0;32m   1793\u001b[0m \u001b[38;5;124;03m        :meth:`DataFrame.plot`.\u001b[39;00m\n\u001b[1;32m-> 1794\u001b[0m \n\u001b[0;32m   1795\u001b[0m \u001b[38;5;124;03m    Returns\u001b[39;00m\n\u001b[0;32m   1796\u001b[0m \u001b[38;5;124;03m    -------\u001b[39;00m\n\u001b[0;32m   1797\u001b[0m \u001b[38;5;124;03m    matplotlib.AxesSubplot\u001b[39;00m\n\u001b[0;32m   1798\u001b[0m \u001b[38;5;124;03m        The matplotlib ``Axes`` on which the hexbin is plotted.\u001b[39;00m\n\u001b[0;32m   1799\u001b[0m \n\u001b[0;32m   1800\u001b[0m \u001b[38;5;124;03m    See Also\u001b[39;00m\n\u001b[0;32m   1801\u001b[0m \u001b[38;5;124;03m    --------\u001b[39;00m\n\u001b[0;32m   1802\u001b[0m \u001b[38;5;124;03m    DataFrame.plot : Make plots of a DataFrame.\u001b[39;00m\n\u001b[0;32m   1803\u001b[0m \u001b[38;5;124;03m    matplotlib.pyplot.hexbin : Hexagonal binning plot using matplotlib,\u001b[39;00m\n\u001b[0;32m   1804\u001b[0m \u001b[38;5;124;03m        the matplotlib function that is used under the hood.\u001b[39;00m\n\u001b[0;32m   1805\u001b[0m \n\u001b[0;32m   1806\u001b[0m \u001b[38;5;124;03m    Examples\u001b[39;00m\n\u001b[0;32m   1807\u001b[0m \u001b[38;5;124;03m    --------\u001b[39;00m\n\u001b[0;32m   1808\u001b[0m \u001b[38;5;124;03m    The following examples are generated with random data from\u001b[39;00m\n\u001b[0;32m   1809\u001b[0m \u001b[38;5;124;03m    a normal distribution.\u001b[39;00m\n\u001b[0;32m   1810\u001b[0m \n\u001b[0;32m   1811\u001b[0m \u001b[38;5;124;03m    .. plot::\u001b[39;00m\n\u001b[0;32m   1812\u001b[0m \u001b[38;5;124;03m        :context: close-figs\u001b[39;00m\n\u001b[0;32m   1813\u001b[0m \n\u001b[0;32m   1814\u001b[0m \u001b[38;5;124;03m        >>> n = 10000\u001b[39;00m\n\u001b[0;32m   1815\u001b[0m \u001b[38;5;124;03m        >>> df = pd.DataFrame({'x': np.random.randn(n),\u001b[39;00m\n\u001b[0;32m   1816\u001b[0m \u001b[38;5;124;03m        ...                    'y': np.random.randn(n)})\u001b[39;00m\n\u001b[0;32m   1817\u001b[0m \u001b[38;5;124;03m        >>> ax = df.plot.hexbin(x='x', y='y', gridsize=20)\u001b[39;00m\n\u001b[0;32m   1818\u001b[0m \n\u001b[0;32m   1819\u001b[0m \u001b[38;5;124;03m    The next example uses `C` and `np.sum` as `reduce_C_function`.\u001b[39;00m\n\u001b[0;32m   1820\u001b[0m \u001b[38;5;124;03m    Note that `'observations'` values ranges from 1 to 5 but the result\u001b[39;00m\n\u001b[0;32m   1821\u001b[0m \u001b[38;5;124;03m    plot shows values up to more than 25. This is because of the\u001b[39;00m\n\u001b[0;32m   1822\u001b[0m \u001b[38;5;124;03m    `reduce_C_function`.\u001b[39;00m\n\u001b[0;32m   1823\u001b[0m \n\u001b[0;32m   1824\u001b[0m \u001b[38;5;124;03m    .. plot::\u001b[39;00m\n\u001b[0;32m   1825\u001b[0m \u001b[38;5;124;03m        :context: close-figs\u001b[39;00m\n\u001b[0;32m   1826\u001b[0m \n\u001b[0;32m   1827\u001b[0m \u001b[38;5;124;03m        >>> n = 500\u001b[39;00m\n\u001b[0;32m   1828\u001b[0m \u001b[38;5;124;03m        >>> df = pd.DataFrame({\u001b[39;00m\n\u001b[0;32m   1829\u001b[0m \u001b[38;5;124;03m        ...     'coord_x': np.random.uniform(-3, 3, size=n),\u001b[39;00m\n\u001b[0;32m   1830\u001b[0m \u001b[38;5;124;03m        ...     'coord_y': np.random.uniform(30, 50, size=n),\u001b[39;00m\n\u001b[0;32m   1831\u001b[0m \u001b[38;5;124;03m        ...     'observations': np.random.randint(1,5, size=n)\u001b[39;00m\n\u001b[0;32m   1832\u001b[0m \u001b[38;5;124;03m        ...     })\u001b[39;00m\n\u001b[0;32m   1833\u001b[0m \u001b[38;5;124;03m        >>> ax = df.plot.hexbin(x='coord_x',\u001b[39;00m\n\u001b[0;32m   1834\u001b[0m \u001b[38;5;124;03m        ...                     y='coord_y',\u001b[39;00m\n\u001b[0;32m   1835\u001b[0m \u001b[38;5;124;03m        ...                     C='observations',\u001b[39;00m\n\u001b[0;32m   1836\u001b[0m \u001b[38;5;124;03m        ...                     reduce_C_function=np.sum,\u001b[39;00m\n\u001b[0;32m   1837\u001b[0m \u001b[38;5;124;03m        ...                     gridsize=10,\u001b[39;00m\n\u001b[0;32m   1838\u001b[0m \u001b[38;5;124;03m        ...                     cmap=\"viridis\")\u001b[39;00m\n\u001b[0;32m   1839\u001b[0m \u001b[38;5;124;03m    \"\"\"\u001b[39;00m\n\u001b[0;32m   1840\u001b[0m     \u001b[38;5;28;01mif\u001b[39;00m reduce_C_function \u001b[38;5;129;01mis\u001b[39;00m \u001b[38;5;129;01mnot\u001b[39;00m \u001b[38;5;28;01mNone\u001b[39;00m:\n\u001b[0;32m   1841\u001b[0m         kwargs[\u001b[38;5;124m\"\u001b[39m\u001b[38;5;124mreduce_C_function\u001b[39m\u001b[38;5;124m\"\u001b[39m] \u001b[38;5;241m=\u001b[39m reduce_C_function\n",
      "\u001b[1;31mImportError\u001b[0m: matplotlib is required for plotting when the default backend \"matplotlib\" is selected."
     ]
    },
    {
     "data": {
      "text/plain": []
     },
     "execution_count": 24,
     "metadata": {},
     "output_type": "execute_result"
    }
   ],
   "source": [
    "profile = ProfileReport(df, title=\"Pandas Profiling Report\")\n",
    "profile"
   ]
  },
  {
   "cell_type": "code",
   "execution_count": null,
   "id": "aaef5bb4",
   "metadata": {},
   "outputs": [],
   "source": []
  }
 ],
 "metadata": {
  "kernelspec": {
   "display_name": "Python 3 (ipykernel)",
   "language": "python",
   "name": "python3"
  },
  "language_info": {
   "codemirror_mode": {
    "name": "ipython",
    "version": 3
   },
   "file_extension": ".py",
   "mimetype": "text/x-python",
   "name": "python",
   "nbconvert_exporter": "python",
   "pygments_lexer": "ipython3",
   "version": "3.11.5"
  }
 },
 "nbformat": 4,
 "nbformat_minor": 5
}
